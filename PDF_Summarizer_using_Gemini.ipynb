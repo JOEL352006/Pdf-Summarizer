{
  "nbformat": 4,
  "nbformat_minor": 0,
  "metadata": {
    "colab": {
      "provenance": [],
      "authorship_tag": "ABX9TyMFxgu/Fyi+Pq0cZ3fMxI4O",
      "include_colab_link": true
    },
    "kernelspec": {
      "name": "python3",
      "display_name": "Python 3"
    },
    "language_info": {
      "name": "python"
    }
  },
  "cells": [
    {
      "cell_type": "markdown",
      "metadata": {
        "id": "view-in-github",
        "colab_type": "text"
      },
      "source": [
        "<a href=\"https://colab.research.google.com/github/JOEL352006/Pdf-Summarizer/blob/main/PDF_Summarizer_using_Gemini.ipynb\" target=\"_parent\"><img src=\"https://colab.research.google.com/assets/colab-badge.svg\" alt=\"Open In Colab\"/></a>"
      ]
    },
    {
      "cell_type": "code",
      "execution_count": null,
      "metadata": {
        "id": "Az2DVawQMyQy"
      },
      "outputs": [],
      "source": [
        "!pip install google-generativeai --upgrade\n",
        "!pip install streamlit\n",
        "!pip install PyMuPDF\n",
        "!pip install pyngrok\n"
      ]
    },
    {
      "cell_type": "code",
      "source": [
        "from google.colab import files\n",
        "uploaded = files.upload()\n",
        "\n",
        "pdf_path = next(iter(uploaded))\n",
        "print(\"✅ Uploaded PDF:\", pdf_path)\n"
      ],
      "metadata": {
        "id": "kmG6_x26M8Qf"
      },
      "execution_count": null,
      "outputs": []
    },
    {
      "cell_type": "code",
      "source": [
        "%%writefile app.py\n",
        "import streamlit as st\n",
        "import fitz  # PyMuPDF\n",
        "import google.generativeai as genai\n",
        "import time\n",
        "from google.api_core.exceptions import ResourceExhausted\n",
        "\n",
        "# === Replace with your Gemini API Key ===\n",
        "GOOGLE_API_KEY = \"YOUR_GEMINI_API_KEY\"  # 🔑 Put your key here\n",
        "genai.configure(api_key=GOOGLE_API_KEY)\n",
        "\n",
        "# Function to extract text from PDF\n",
        "def extract_pdf_text(pdf_file):\n",
        "    doc = fitz.open(stream=pdf_file.read(), filetype=\"pdf\")\n",
        "    full_text = \"\"\n",
        "    for page in doc:\n",
        "        text = page.get_text().strip()\n",
        "        full_text += text + \"\\n\"\n",
        "    return full_text\n",
        "\n",
        "# Function to summarize PDF content\n",
        "def summarize_text(text):\n",
        "    model = genai.GenerativeModel('models/gemini-1.5-flash')\n",
        "    prompt = f\"\"\"Summarize the following PDF content in detail:\n",
        "\\\"\\\"\\\"\n",
        "{text}\n",
        "\\\"\\\"\\\"\n",
        "Summary:\"\"\"\n",
        "\n",
        "    try:\n",
        "        response = model.generate_content(prompt)\n",
        "        return response.text\n",
        "    except ResourceExhausted:\n",
        "        st.error(\"❌ Rate limit exceeded. Please wait and try again later.\")\n",
        "        return \"Summary unavailable due to API limit.\"\n",
        "    except Exception as e:\n",
        "        st.error(f\"❌ Error: {e}\")\n",
        "        return \"Summary generation failed.\"\n",
        "\n",
        "# Function to answer user questions strictly based on summary\n",
        "def answer_question(summary, user_query):\n",
        "    model = genai.GenerativeModel('models/gemini-1.5-flash')\n",
        "    prompt = f\"\"\"\n",
        "You are a PDF assistant. Answer strictly based on the following summary.\n",
        "If the answer is not in this summary, reply: \"I cannot find this information in the document.\"\n",
        "\n",
        "Summary:\n",
        "\\\"\\\"\\\"\n",
        "{summary}\n",
        "\\\"\\\"\\\"\n",
        "\n",
        "Question: {user_query}\n",
        "\"\"\"\n",
        "    try:\n",
        "        response = model.generate_content(prompt)\n",
        "        return response.text\n",
        "    except ResourceExhausted:\n",
        "        st.error(\"❌ Rate limit exceeded. Please wait and try again later.\")\n",
        "        return \"Answer unavailable due to API limit.\"\n",
        "    except Exception as e:\n",
        "        st.error(f\"❌ Error: {e}\")\n",
        "        return \"Answer generation failed.\"\n",
        "\n",
        "# ==== Streamlit UI ====\n",
        "st.set_page_config(page_title=\"PDF Summarizer + Q/A Chatbot\", layout=\"wide\")\n",
        "st.title(\"📄 PDF Summarizer + Chatbot\")\n",
        "\n",
        "uploaded_pdf = st.file_uploader(\"Upload a PDF file\", type=\"pdf\")\n",
        "\n",
        "if uploaded_pdf is not None:\n",
        "    st.info(\"📄 Extracting PDF content...\")\n",
        "    pdf_text = extract_pdf_text(uploaded_pdf)\n",
        "    st.success(\"✅ PDF content extracted!\")\n",
        "\n",
        "    if st.button(\"🔍 Generate Summary\"):\n",
        "        with st.spinner(\"Generating summary using Gemini...\"):\n",
        "            summary = summarize_text(pdf_text)\n",
        "        st.subheader(\"📃 PDF Summary:\")\n",
        "        st.write(summary)\n",
        "\n",
        "        # Store summary in session\n",
        "        st.session_state['summary'] = summary\n",
        "\n",
        "    if 'summary' in st.session_state:\n",
        "        user_query = st.text_input(\"Ask a question based on the PDF summary:\")\n",
        "        if user_query:\n",
        "            with st.spinner(\"Zap is thinking...\"):\n",
        "                answer = answer_question(st.session_state['summary'], user_query)\n",
        "            st.subheader(\"🤖 Zap's Answer:\")\n",
        "            st.write(answer)\n",
        "else:\n",
        "    st.warning(\"⚠️ Please upload a PDF file to proceed.\")\n"
      ],
      "metadata": {
        "id": "MMQ_AYQ0NYRR"
      },
      "execution_count": null,
      "outputs": []
    },
    {
      "cell_type": "code",
      "source": [
        "!streamlit run app.py & npx localtunnel --port 8501\n"
      ],
      "metadata": {
        "id": "WRDZDHExNjId"
      },
      "execution_count": null,
      "outputs": []
    }
  ]
}